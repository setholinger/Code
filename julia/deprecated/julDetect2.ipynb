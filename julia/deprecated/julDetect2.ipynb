{
 "cells": [
  {
   "cell_type": "code",
   "execution_count": 1,
   "metadata": {},
   "outputs": [
    {
     "ename": "ArgumentError",
     "evalue": "ArgumentError: Package Plots not found in current path:\n- Run `import Pkg; Pkg.add(\"Plots\")` to install the Plots package.\n",
     "output_type": "error",
     "traceback": [
      "ArgumentError: Package Plots not found in current path:\n- Run `import Pkg; Pkg.add(\"Plots\")` to install the Plots package.\n",
      "",
      "Stacktrace:",
      " [1] require(::Module, ::Symbol) at ./loading.jl:823",
      " [2] top-level scope at In[1]:1"
     ]
    }
   ],
   "source": [
    "#code for STA/LTA detections \n",
    "using Plots\n",
    "using Statistics\n",
    "\n",
    "#sample data object\n",
    "struct sampleData\n",
    "    trace\n",
    "    sampleRate\n",
    "    startTime\n",
    "end\n",
    "\n",
    "#make sample data - random signal centered on 0\n",
    "sample = sampleData(rand(10000).- 0.5,10,0)\n",
    "\n",
    "#add an impulsive spike\n",
    "sample.trace[4000] = 2.5\n",
    "sample.trace[4002] = 2.5\n",
    "sample.trace[4004] = 2.5\n",
    "sample.trace[4006] = 2.5\n",
    "sample.trace[4008] = 2.5\n",
    "sample.trace[4010] = 2.5\n",
    "sample.trace[4012] = 2.5\n",
    "sample.trace[4014] = 2.5\n",
    "sample.trace[4016] = 2.5\n",
    "sample.trace[4018] = 2.5\n",
    "\n",
    "sample.trace[4001] = -2.5\n",
    "sample.trace[4003] = -2.5\n",
    "sample.trace[4005] = -2.5\n",
    "sample.trace[4007] = -2.5\n",
    "sample.trace[4009] = -2.5\n",
    "sample.trace[4011] = -2.5\n",
    "sample.trace[4013] = -2.5\n",
    "sample.trace[4015] = -2.5\n",
    "sample.trace[4017] = -2.5\n",
    "sample.trace[4019] = -2.5\n",
    "\n",
    "\n",
    "function detect(data,longWinLength::Int=20,shortWinLength::Int=2,threshold::Int=2,overlap::Int=longWinLength/2)\n",
    "    #convert window lengths from seconds to samples\n",
    "    longWinLength = longWinLength * data.sampleRate\n",
    "    shortWinLength = shortWinLength * data.sampleRate\n",
    "\n",
    "    numLongWin = length(data.trace) / longWinLength\n",
    "    numShortWin = longWinLength / shortWinLength\n",
    "    detections = Float32[]\n",
    "\n",
    "    #loop through data in long windows\n",
    "    for i = 1:Int(numLongWin)\n",
    "        startSampleLong = (i-1) * longWinLength + 1\n",
    "        finishSampleLong = i * longWinLength\n",
    "        longTrace = data.trace[startSampleLong:finishSampleLong]\n",
    "        lta = mean( broadcast(abs,longTrace))\n",
    "\n",
    "        #loop through long window in short windows  \n",
    "        for n = 1:Int(numShortWin)\n",
    "            startSampleShort = startSampleLong + (n-1) * shortWinLength + 1\n",
    "            finishSampleShort = startSampleLong + (n) * shortWinLength - 1\n",
    "            shortTrace = data.trace[startSampleShort:finishSampleShort]\n",
    "            sta = mean(broadcast(abs,shortTrace))\n",
    "            staLta = sta / lta\n",
    "\n",
    "            #record detection time if trigger condition is met\n",
    "            if staLta > threshold\n",
    "                trigger = data.startTime + (startSampleShort / data.sampleRate)\n",
    "                detections = [detections;trigger]\n",
    "            end\n",
    "        end\n",
    "    end  \n",
    "    \n",
    "    return detections\n",
    "    \n",
    "end\n",
    "\n",
    "detections = detect(sample,50)\n",
    "print(detections)\n",
    "plot(sample.trace)\n"
   ]
  },
  {
   "cell_type": "code",
   "execution_count": null,
   "metadata": {},
   "outputs": [],
   "source": []
  },
  {
   "cell_type": "code",
   "execution_count": null,
   "metadata": {},
   "outputs": [],
   "source": []
  },
  {
   "cell_type": "code",
   "execution_count": null,
   "metadata": {},
   "outputs": [],
   "source": []
  }
 ],
 "metadata": {
  "kernelspec": {
   "display_name": "Julia 1.1.0",
   "language": "julia",
   "name": "julia-1.1"
  },
  "language_info": {
   "file_extension": ".jl",
   "mimetype": "application/julia",
   "name": "julia",
   "version": "1.1.0"
  }
 },
 "nbformat": 4,
 "nbformat_minor": 2
}
